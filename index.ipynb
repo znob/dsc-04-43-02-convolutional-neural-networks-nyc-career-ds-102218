{
 "cells": [
  {
   "cell_type": "markdown",
   "metadata": {},
   "source": [
    "# Convolution Neural Networks"
   ]
  },
  {
   "cell_type": "markdown",
   "metadata": {},
   "source": [
    "## Introduction   \n",
    "\n",
    "Convolutional Neural Networks (CNNs), can deal better with large images. Until now, images that we have used were fairly small. Imagine an color image with 500 x 500 pixels, this means you would    end up having 500 x 500 x 3 = 750,000 input features, $(x_1,...,x_{750,000})$. Next, imagine having 2000 hidden units in the first hidden layer. Then the matrix $w^{[1]}$ would have dimensions (2000 x 750,000), and will have 1.5 billion parameters. So it becomes a very high-dimensional problem!\n",
    "\n",
    "CNNs have certain features that identify patterns in images because of  \"convolution operation\" including:\n",
    "\n",
    "- Dense layers learn global patterns in their input feature space\n",
    "\n",
    "- Convolution layers learn local patterns, and this leads to the following interesting features:\n",
    "    - Unlike with densely connected networks, when a convolutional neural network recognizes a patterns let's say, in the upper-right corner of a picture, it can recognize it anywhere else in a picture. \n",
    "    - Deeper convolutional neural networks can learn spatial hierarchies. A first layer will learn small local patterns, a second layer will learn larger patterns using features of the first layer patterns, etc. \n",
    "     \n",
    "Because of these properties, CNNs are great for tasks like:\n",
    "- Image classification\n",
    "- Object detection in images\n",
    "- Picture neural style transfer\n",
    "\n",
    "## Objectives\n",
    "\n",
    "* Describe what a CNN is\n",
    "* Describe the basic architectural features of a CNN\n",
    "* Identify common use cases for CNNs"
   ]
  },
  {
   "cell_type": "markdown",
   "metadata": {},
   "source": [
    "## Building CNNs in Keras\n",
    "\n",
    "Building a CNN in Keras is very similar to the previous neural networks that we have built to date. To start, you will initialize a sequential model as before and go on adding layers. However, rather then simply adding additional dense layers or dropouts between them, we will now start to investigate other potential layer architectures including convolutional layers.\n",
    "\n",
    "<img src=\"architecture-cnn.png\">"
   ]
  },
  {
   "cell_type": "markdown",
   "metadata": {},
   "source": [
    "## The Convolution Operation \n",
    "\n",
    "The idea behind the convolutional operation is to detect complex building blocks, or features, that can aid in the larger task such as image recognition. For example, we'll detect vertical or horizontal edges present in the image. Let's look at what horizontal edge detection would look like!"
   ]
  },
  {
   "cell_type": "markdown",
   "metadata": {},
   "source": [
    "![title](conv.png)"
   ]
  },
  {
   "cell_type": "markdown",
   "metadata": {},
   "source": [
    "This is a simplified 5 x 5 pixel image (greyscale!). You use a so-called \"filter\" (denoted on the right) to perform a convolution operation. This particular filter operation will detect horizontal edges. The matrix in the left should have number in it (from 1-255, or let's assume we rescaled it to number 1-10). The output is a 3 x 3 matrix. (*This example is for computational clarity, no clear edges*)\n",
    "\n",
    "\n",
    "In Keras, function for the convolution step is `Conv2D`.\n",
    "\n",
    "The convolutional operation applies this filter (typically 3x3 or 5x5) to each possible 3x3 or 5x5 region of the original image. The graphic below demonstrates this process. Later, \n",
    "<img src=\"convolution-layer-a.png\">"
   ]
  },
  {
   "cell_type": "markdown",
   "metadata": {},
   "source": [
    "## Padding\n",
    "\n",
    "There are some issues with using filters on images including: \n",
    "\n",
    "- The image shrinks with each convolution layer: you're throwing away information in each layer! For example:\n",
    "    - Starting from a 5 x 5 matrix, and using a 3 x 3 matrix, you end up with a 3 x 3 image. \n",
    "    - Starting from a 10 x 10 matrix, and using a 3 x 3 matrix, you end up with a 8 x 8 image. \n",
    "    - etc.\n",
    "- The pixels around the edges are used much less in the outputs due to the filter.  \n",
    "\n",
    "\n",
    "For example, if we apply 3x3 filters to a 5x5 image, our original 5x5 image contains 25 pixels, but tiling our 3x3 filter only has 9 possible locations. Here's the 4 of the 9 possible locations for the 3x3 filter on a 5x5 image:  \n",
    "\n",
    "<img src=\"5by5_3by3_1.jpeg\" width=200>\n",
    "<img src=\"5by5_3by3_2.jpeg\" width=200>\n",
    "<img src=\"5by5_3by3_3.jpeg\" width=200>\n",
    "<img src=\"5by5_3by3_4.jpeg\" width=200>\n",
    "\n",
    "Fortunately, padding solves both of these problems! Just one layer of pixels around the edges preserves the image size when having a 3 x 3 filter. We can also use bigger filters, but generally the dimensions are odd!\n",
    "\n",
    "Some further terminology regarding padding that you should be aware of includes:\n",
    "\n",
    "- \"Valid\" - no padding\n",
    "- \"Same\" - padding such that output is same as the input size\n",
    "\n",
    "By adding padding to our 5x5 image, (now a 6x6 image by adding a border of pixels) we can add padding so that each pixel of our original 5x5 image can be the center of a 3x3 convolution window filter."
   ]
  },
  {
   "cell_type": "markdown",
   "metadata": {},
   "source": [
    "## Strided convolutions\n",
    "\n",
    "Another method to change the output of your convolutions is to change the stride. The stride is how the convolution filter is moved over the original image. In our above example, we moved the filter one pixel to the right starting from the upper left hand corner, and then began to do this again after moving the filter one pixel down. Alternatively, by changing the stride, we could move our filter by 2 pixels each time, resulting in a smaller number of possible locations for the filter.  \n",
    "\n",
    "Strided convolutions are rarely used in practice but a good feature to be aware of for some models."
   ]
  },
  {
   "cell_type": "markdown",
   "metadata": {},
   "source": [
    "## Convolutions on RGB images"
   ]
  },
  {
   "cell_type": "markdown",
   "metadata": {},
   "source": [
    "Instead of 5 x 5 grayscale, let's imagine a 7 x 7 RGB image, which boils down to having a 7 x 7 x 3 tensor. (The image itelf is compromised by a 7 by 7 matrix of pixels, each with 3 numerical values for the RGB values.) From there, you will need to use a filter that has the third dimension equal to 3 as well, let's say, 3 x 3 x 3 (a 3D \"cube\"). \n",
    "\n",
    "This allows us to detect, eg only horizontal edges in the blue channel (filter on the red and green channel all equal to 0). \n",
    "\n",
    "Then, in each layer, you can convolve with several 3D filters.\n",
    "Then, you stack every output result together, and that way you end up having a 5 x 5 x (number of filters) shape.\n",
    "\n",
    "\n",
    "If you think of it, the filter plays the same role as the w^{[1]} in our densely connected networks.\n",
    "\n",
    "The advantage is, your image can be huge, the amount of parameters you have still only depends on how many filters you're using!\n",
    "\n",
    "\n",
    "Imagine 20 (3 x 3 x 3) --> 20 * 27 + a bias for each filter (1* 20) = 560 parameters.\n",
    "\n",
    "Notation:\n",
    "\n",
    "- $f^{[l]}$ = size of the filter\n",
    "- $p^{[l]}$ = padding\n",
    "- $s^{[l]}$ = amount of stride\n",
    "- $ n_c^{[l]}$ = number of filters\n",
    "- filter: $f^{[l]}$ x $f^{[l]}$ x $ n_c^{[l-1]}$\n",
    "\n",
    "\n",
    "- Input = $ n_h^{[l-1]} * n_w^{[l-1]} * n_c^{[l-1]} $\n",
    "- Output = $ n_h^{[l]} * n_w^{[l]} * n_c^{[l]} $\n",
    "\n",
    "Height and width are given by:\n",
    "\n",
    "$n_h^{[l]}= \\Bigr\\lfloor\\dfrac{n_h^{[l-1]}+2p^{[l]}-f^{[l]}}{s^{[l]}}+1\\Bigr\\rfloor$\n",
    "\n",
    "$n_w^{[l]}= \\Bigr\\lfloor\\dfrac{n_w^{[l-1]}+2p^{[l]}-f^{[l]}}{s^{[l]}}+1\\Bigr\\rfloor$\n",
    "\n",
    "\n",
    "Activations: $a^{[l]}$ is of dimension $ n_h^{[l]} * n_w^{[l]} * n_c^{[l]} $\n"
   ]
  },
  {
   "cell_type": "markdown",
   "metadata": {},
   "source": [
    "## Pooling layer\n",
    "\n",
    "    The last element in a CNN architecture (before fully connected layers as we have previously discussed in other neural networks) is the pooling layer. This layer is meant to substantially downsample the previous convolutional layers. The idea behind this is that the previous convolutional layers will find patterns such as edges or other basic shapes present in the pictures. From there, pooling layers such as Max pooling (the most common) will take a summary of the convolutions from a larger section. In practice Max pooling (taking the max of all convolutions from a larger area of the original image) works better then average pooling as we are typically looking to detect whether a feature is present in that region. Downsampling is essential in order to produce viable execution times in the model training."
   ]
  },
  {
   "cell_type": "markdown",
   "metadata": {},
   "source": [
    "Max pooling has some important hyperparameters:\n",
    "- f (filter size)\n",
    "- S (stride)\n",
    "\n",
    "Common hyperparameters include: f=2, s=2 and f=3, s=2, this shrinks the size of the representations.\n",
    "If a feature is detected anywhere in the quadrants, a high number will appear. so max pooling preserves this feature."
   ]
  },
  {
   "cell_type": "markdown",
   "metadata": {},
   "source": [
    "## Fully Connected Layers in Your CNN.\n",
    "\n",
    "Once you have addded a number of convolutional layers and pooling layers, yoiu then. will add fully connected (dense) layers as we did before in previous neural network models. This now allows the network to learn a final decision function based on these transformed informative inputs generating from the convolutional and pooling layers."
   ]
  },
  {
   "cell_type": "markdown",
   "metadata": {},
   "source": [
    "## Additional Resources\n",
    "\n",
    "* https://blog.keras.io/how-convolutional-neural-networks-see-the-world.html\n",
    "* https://datascience.stackexchange.com/questions/16463/what-is-are-the-default-filters-used-by-keras-convolution2d\n",
    "* https://stanford.edu/~shervine/teaching/cs-230/cheatsheet-convolutional-neural-networks\n",
    "* https://www.coursera.org/learn/convolutional-neural-networks/lecture/A9lXL/simple-convolutional-network-example\n",
    "* https://www.coursera.org/learn/convolutional-neural-networks/lecture/uRYL1/cnn-example"
   ]
  },
  {
   "cell_type": "markdown",
   "metadata": {},
   "source": [
    "## Summary   \n",
    "\n",
    "In this lesson, we discussed the basic concepts behind CNNs including their use cases and general archictecture. In the upcoming lab, we'll begin to look at how you can build these models in Python using Keras."
   ]
  }
 ],
 "metadata": {
  "kernelspec": {
   "display_name": "Python 3",
   "language": "python",
   "name": "python3"
  },
  "language_info": {
   "codemirror_mode": {
    "name": "ipython",
    "version": 3
   },
   "file_extension": ".py",
   "mimetype": "text/x-python",
   "name": "python",
   "nbconvert_exporter": "python",
   "pygments_lexer": "ipython3",
   "version": "3.6.6"
  }
 },
 "nbformat": 4,
 "nbformat_minor": 2
}
